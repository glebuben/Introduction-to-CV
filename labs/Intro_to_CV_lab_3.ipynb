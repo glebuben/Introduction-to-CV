{
  "nbformat": 4,
  "nbformat_minor": 0,
  "metadata": {
    "colab": {
      "provenance": []
    },
    "kernelspec": {
      "name": "python3",
      "display_name": "Python 3"
    },
    "language_info": {
      "name": "python"
    }
  },
  "cells": [
    {
      "cell_type": "code",
      "execution_count": null,
      "metadata": {
        "id": "O0IaIg0tYA_5"
      },
      "outputs": [],
      "source": [
        "# imports required for these tasks\n",
        "import numpy as np\n",
        "import time\n",
        "from tensorflow import keras\n",
        "from tqdm import tqdm"
      ]
    },
    {
      "cell_type": "code",
      "source": [
        "# loading cifar10 dataset\n",
        "dataset=keras.datasets.cifar10\n",
        "(x_train, y_train), (x_test, y_test) = dataset.load_data()\n",
        "number_of_labels = 10"
      ],
      "metadata": {
        "id": "7IezKsB2w0gD",
        "colab": {
          "base_uri": "https://localhost:8080/"
        },
        "outputId": "80d48bbb-1334-4f20-ddc2-fdb619d3457c"
      },
      "execution_count": null,
      "outputs": [
        {
          "output_type": "stream",
          "name": "stdout",
          "text": [
            "Downloading data from https://www.cs.toronto.edu/~kriz/cifar-10-python.tar.gz\n",
            "170498071/170498071 [==============================] - 2s 0us/step\n"
          ]
        }
      ]
    },
    {
      "cell_type": "code",
      "source": [
        "# these functions are taken from Lecture 3 slides\n",
        "def SoftMax(g):\n",
        "  y = np.exp(g)\n",
        "  y = y / sum(y)\n",
        "  return y\n",
        "\n",
        "def Loss(y_pred, y_true):\n",
        "  loss = -np.dot(y_true, np.log(y_pred))\n",
        "  return loss\n",
        "\n",
        "def label_vec_func(labels):\n",
        "  labels_matrix = np.zeros([len(labels), number_of_labels])\n",
        "  for i in range(len(labels)):\n",
        "    labels_matrix[i, labels[i]] = 1\n",
        "  return labels_matrix\n",
        "\n",
        "def funk(x, W):\n",
        "  f = np.matmul(W, x)\n",
        "  f = f / np.max(f)\n",
        "  return f"
      ],
      "metadata": {
        "id": "qybpGUc0xTCa"
      },
      "execution_count": null,
      "outputs": []
    },
    {
      "cell_type": "code",
      "source": [
        "x_train = x_train.reshape(50000, 32 * 32 * 3, 1)\n",
        "x_test = x_test.reshape(10000, 32 * 32 * 3, 1)"
      ],
      "metadata": {
        "id": "0gxsOI0LyJ1p"
      },
      "execution_count": null,
      "outputs": []
    },
    {
      "cell_type": "code",
      "source": [
        "y_train = label_vec_func(y_train)\n",
        "y_test = label_vec_func(y_test)"
      ],
      "metadata": {
        "id": "p2aUdXLH1sEk"
      },
      "execution_count": null,
      "outputs": []
    },
    {
      "cell_type": "code",
      "source": [
        "n = 3000\n",
        "min_L=np.inf\n",
        "for i in tqdm(range(n)):\n",
        "  W = np.random.randn(number_of_labels, 32 * 32 * 3)\n",
        "  loss=np.zeros(len(x_train))\n",
        "  for j in range(len(x_train)):\n",
        "    x = x_train[j]\n",
        "    g = funk(x, W)\n",
        "    y = SoftMax(g)\n",
        "    loss[j] = Loss(y, y_train[j])\n",
        "  L = np.mean(loss)\n",
        "  if min_L > L:\n",
        "    good_W = W\n",
        "    min_L = L"
      ],
      "metadata": {
        "colab": {
          "base_uri": "https://localhost:8080/"
        },
        "id": "7hPS6lynzbs7",
        "outputId": "f5e31d01-58a4-4e57-aed0-4f97b8c233ff"
      },
      "execution_count": null,
      "outputs": [
        {
          "output_type": "stream",
          "name": "stderr",
          "text": [
            "  0%|          | 13/3000 [00:31<2:06:23,  2.54s/it]"
          ]
        }
      ]
    },
    {
      "cell_type": "code",
      "source": [
        "y_pred = np.zeros(len(y_test))\n",
        "for i in range(len(x_test)):\n",
        "  y = np.matmul(good_W, x_test[i])\n",
        "  y_pred[i] = int(np.argmax(y))\n",
        "loss = 1 - sum(y_pred==y_test.reshape(10000))/10000"
      ],
      "metadata": {
        "id": "aZTRU-7ZDqOj"
      },
      "execution_count": null,
      "outputs": []
    },
    {
      "cell_type": "code",
      "source": [
        "loss"
      ],
      "metadata": {
        "id": "zh-1vPU2ztTg"
      },
      "execution_count": null,
      "outputs": []
    }
  ]
}