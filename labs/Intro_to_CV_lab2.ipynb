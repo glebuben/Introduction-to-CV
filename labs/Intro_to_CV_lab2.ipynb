{
  "nbformat": 4,
  "nbformat_minor": 0,
  "metadata": {
    "colab": {
      "provenance": []
    },
    "kernelspec": {
      "name": "python3",
      "display_name": "Python 3"
    },
    "language_info": {
      "name": "python"
    }
  },
  "cells": [
    {
      "cell_type": "code",
      "execution_count": null,
      "metadata": {
        "id": "ICeybvhwC28w"
      },
      "outputs": [],
      "source": [
        "# imports required for these tasks\n",
        "import numpy as np\n",
        "from matplotlib import pyplot as plt\n",
        "from tensorflow import keras\n",
        "from sklearn import metrics"
      ]
    },
    {
      "cell_type": "code",
      "source": [
        "# loading cifar10 dataset\n",
        "dataset=keras.datasets.cifar10\n",
        "(x_train, y_train), (x_test, y_test) = dataset.load_data()"
      ],
      "metadata": {
        "id": "BfD8Xw6SDRWq"
      },
      "execution_count": null,
      "outputs": []
    },
    {
      "cell_type": "code",
      "source": [
        "# function for computing distance between 2 pictures using L1\n",
        "# I used the same formula as on the lecture slides\n",
        "def compute_distance(pic1, pic2):\n",
        "  dif = pic1 - pic2 # array of differences between 2 pictures\n",
        "  score = np.sum(np.abs(dif))\n",
        "  return score"
      ],
      "metadata": {
        "id": "AqjXRToe1EfZ"
      },
      "execution_count": null,
      "outputs": []
    },
    {
      "cell_type": "code",
      "source": [
        "# there we will build a predictor\n",
        "\n",
        "# these imports are required to track progress of algorithm execution\n",
        "import time\n",
        "from tqdm import tqdm\n",
        "\n",
        "# labels predicted using Nearset Neighbour\n",
        "y_pred = np.zeros((10000, 1), int)\n",
        "\n",
        "# for each picture from test sample\n",
        "for i in tqdm(range(len(x_test))):\n",
        "  current_test_pic = x_test[i] # take current test picture\n",
        "  closest_pic_index = 0 # initialize closest train picture's index for Nearset Neighbour with L1 distance\n",
        "  lowest_score = np.inf # initialize lowest distance for Nearset Neighbour with L1 distance\n",
        "\n",
        "  # for each picture from train sample\n",
        "  for j in range(len(x_train)):\n",
        "    current_train_pic = x_train[j] # take current train picture\n",
        "    score = compute_distance(current_test_pic, current_train_pic) # compute distance between current test picture and current train picture using L1 distance\n",
        "\n",
        "    # update lowest distances and indexes of closest pictures, if needed\n",
        "    if score < lowest_score:\n",
        "      lowest_score = score\n",
        "      closest_pic_index = j\n",
        "\n",
        "  # save predicted lables (labels will be the same as for the closest picture)\n",
        "  y_pred[i] = y_train[closest_pic_index]"
      ],
      "metadata": {
        "colab": {
          "base_uri": "https://localhost:8080/"
        },
        "id": "FVUcAMCpN5yC",
        "outputId": "1fd80387-f2ab-45b8-bf1c-559a98cd67b8"
      },
      "execution_count": null,
      "outputs": [
        {
          "output_type": "stream",
          "name": "stderr",
          "text": [
            "100%|██████████| 10000/10000 [1:46:40<00:00,  1.56it/s]\n"
          ]
        }
      ]
    },
    {
      "cell_type": "code",
      "source": [
        "# Let's check accuracy\n",
        "print(\"Accuracy using L1 distance:\", metrics.accuracy_score(y_true=y_test, y_pred=y_pred))"
      ],
      "metadata": {
        "colab": {
          "base_uri": "https://localhost:8080/"
        },
        "id": "85jXyxwfULRN",
        "outputId": "76ed1082-8714-4e92-d7b5-0ddf0641b18f"
      },
      "execution_count": null,
      "outputs": [
        {
          "output_type": "stream",
          "name": "stdout",
          "text": [
            "Accuracy using L1 distance: 0.2731\n"
          ]
        }
      ]
    },
    {
      "cell_type": "markdown",
      "source": [
        "Now let's try to reshape images, so all of them will be one dimential, and see, if it will give us an improvement."
      ],
      "metadata": {
        "id": "vZZdddIq0PCK"
      }
    }
  ]
}