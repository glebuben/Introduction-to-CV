{
  "nbformat": 4,
  "nbformat_minor": 0,
  "metadata": {
    "colab": {
      "provenance": []
    },
    "kernelspec": {
      "name": "python3",
      "display_name": "Python 3"
    },
    "language_info": {
      "name": "python"
    }
  },
  "cells": [
    {
      "cell_type": "code",
      "execution_count": null,
      "metadata": {
        "id": "8S37jmTpRngn"
      },
      "outputs": [],
      "source": [
        "# importing required libraries\n",
        "import numpy as np\n",
        "import torch\n",
        "from torch.nn.functional import conv2d"
      ]
    },
    {
      "cell_type": "code",
      "source": [
        "# forward propagation for convolution\n",
        "def conv2d_forward(matrix, filter):\n",
        "  h_x, w_x, _ = matrix.shape # getting matrix shape\n",
        "  h_w, w_w, _  = filter.shape # getting filter shape\n",
        "  output = np.zeros((h_x - h_w + 1, w_x - w_w + 1)) # initializing output matrix\n",
        "  for i in range(len(output)): # for each pixel\n",
        "    for j in range(len(output[i])):\n",
        "        output[i][j] = np.sum(matrix[i:i+h_w, j:j+w_w, :] * filter) # calculate sum of hadamart product between\n",
        "                                                                    # matrix batch and filter, save value in output cell\n",
        "  return output"
      ],
      "metadata": {
        "id": "jJkbAtzoaSQS"
      },
      "execution_count": null,
      "outputs": []
    },
    {
      "cell_type": "code",
      "source": [
        "# backward propagation for convolution (dL/dZ)\n",
        "def conv2d_backward(upstream, filter):\n",
        "  h_w, w_w, d_w  = filter.shape # getting filter shape\n",
        "  padded_upstream = np.pad(upstream,((h_w - 1, h_w - 1), (w_w - 1, w_w - 1), (0, 0)), 'constant') # padding upstream matrix\n",
        "  rotated_filter = np.rot90(np.rot90(filter)) # rotate filter by 180 degree\n",
        "  dL_dZ = [] # initializing output\n",
        "  for i in range(d_w): # for each channel\n",
        "    dL_dZ.append(conv2d_forward(padded_upstream, rotated_filter[:, :, i, np.newaxis])) # adding dL/dZ\n",
        "  return np.array(dL_dZ)"
      ],
      "metadata": {
        "id": "uPoWW5ESndAn"
      },
      "execution_count": null,
      "outputs": []
    },
    {
      "cell_type": "code",
      "source": [
        "# backward propagation for convolution (dL/dW)\n",
        "def conv2d_backward_weights(weights, upstream):\n",
        "  h_x, w_x, d_x  = weights.shape # getting filter shape\n",
        "  dL_dZ = [] # initializing output\n",
        "  for i in range(d_x): # for each channel\n",
        "    dL_dZ.append(conv2d_forward(weights[:, :, i, np.newaxis], upstream)) # adding dL/dZ\n",
        "  return np.array(dL_dZ)"
      ],
      "metadata": {
        "id": "IO1BMfBoes8x"
      },
      "execution_count": null,
      "outputs": []
    },
    {
      "cell_type": "markdown",
      "source": [
        "#Testing created functions"
      ],
      "metadata": {
        "id": "S7YfBJU7JXoh"
      }
    },
    {
      "cell_type": "markdown",
      "source": [
        "## 1 channel"
      ],
      "metadata": {
        "id": "y5fZZ3FSRNLZ"
      }
    },
    {
      "cell_type": "markdown",
      "source": [
        "### Forward propagation"
      ],
      "metadata": {
        "id": "h3DdbUD_RyP_"
      }
    },
    {
      "cell_type": "code",
      "source": [
        "# initializing input array and filter\n",
        "arr1d = np.array([[[1], [2]], [[3], [4]]])\n",
        "\n",
        "filt1d = np.array([[[10]], [[2]]])"
      ],
      "metadata": {
        "id": "NGDSWhP-R9NN"
      },
      "execution_count": null,
      "outputs": []
    },
    {
      "cell_type": "code",
      "source": [
        "# calculating convolution forward propagation using my function\n",
        "print(conv2d_forward(arr1d, filt1d))"
      ],
      "metadata": {
        "colab": {
          "base_uri": "https://localhost:8080/"
        },
        "id": "S0VF-447dcfF",
        "outputId": "e619b3f8-eae4-409d-ce17-14104450b803"
      },
      "execution_count": null,
      "outputs": [
        {
          "output_type": "stream",
          "name": "stdout",
          "text": [
            "[[16. 28.]]\n"
          ]
        }
      ]
    },
    {
      "cell_type": "code",
      "source": [
        "# initializing input array and filter as torch tensors\n",
        "custom_filter = torch.tensor(filt1d.transpose(2,0,1,3), dtype=float, requires_grad=True)\n",
        "input_data = torch.tensor(arr1d, dtype=float, requires_grad=True)\n",
        "input_matrix = input_data.permute(2, 0, 1).unsqueeze(0)"
      ],
      "metadata": {
        "id": "jJCzaQ28fUJy",
        "colab": {
          "base_uri": "https://localhost:8080/",
          "height": 227
        },
        "outputId": "e7e30fa4-9dc8-4ba3-ce1a-65d043740c87"
      },
      "execution_count": null,
      "outputs": [
        {
          "output_type": "error",
          "ename": "ValueError",
          "evalue": "ignored",
          "traceback": [
            "\u001b[0;31m---------------------------------------------------------------------------\u001b[0m",
            "\u001b[0;31mValueError\u001b[0m                                Traceback (most recent call last)",
            "\u001b[0;32m<ipython-input-7-c4b1803cb693>\u001b[0m in \u001b[0;36m<cell line: 2>\u001b[0;34m()\u001b[0m\n\u001b[1;32m      1\u001b[0m \u001b[0;31m# initializing input array and filter as torch tensors\u001b[0m\u001b[0;34m\u001b[0m\u001b[0;34m\u001b[0m\u001b[0m\n\u001b[0;32m----> 2\u001b[0;31m \u001b[0mcustom_filter\u001b[0m \u001b[0;34m=\u001b[0m \u001b[0mtorch\u001b[0m\u001b[0;34m.\u001b[0m\u001b[0mtensor\u001b[0m\u001b[0;34m(\u001b[0m\u001b[0mfilt1d\u001b[0m\u001b[0;34m.\u001b[0m\u001b[0mtranspose\u001b[0m\u001b[0;34m(\u001b[0m\u001b[0;36m2\u001b[0m\u001b[0;34m,\u001b[0m\u001b[0;36m0\u001b[0m\u001b[0;34m,\u001b[0m\u001b[0;36m1\u001b[0m\u001b[0;34m,\u001b[0m\u001b[0;36m3\u001b[0m\u001b[0;34m)\u001b[0m\u001b[0;34m,\u001b[0m \u001b[0mdtype\u001b[0m\u001b[0;34m=\u001b[0m\u001b[0mfloat\u001b[0m\u001b[0;34m,\u001b[0m \u001b[0mrequires_grad\u001b[0m\u001b[0;34m=\u001b[0m\u001b[0;32mTrue\u001b[0m\u001b[0;34m)\u001b[0m\u001b[0;34m\u001b[0m\u001b[0;34m\u001b[0m\u001b[0m\n\u001b[0m\u001b[1;32m      3\u001b[0m \u001b[0minput_data\u001b[0m \u001b[0;34m=\u001b[0m \u001b[0mtorch\u001b[0m\u001b[0;34m.\u001b[0m\u001b[0mtensor\u001b[0m\u001b[0;34m(\u001b[0m\u001b[0marr1d\u001b[0m\u001b[0;34m,\u001b[0m \u001b[0mdtype\u001b[0m\u001b[0;34m=\u001b[0m\u001b[0mfloat\u001b[0m\u001b[0;34m,\u001b[0m \u001b[0mrequires_grad\u001b[0m\u001b[0;34m=\u001b[0m\u001b[0;32mTrue\u001b[0m\u001b[0;34m)\u001b[0m\u001b[0;34m\u001b[0m\u001b[0;34m\u001b[0m\u001b[0m\n\u001b[1;32m      4\u001b[0m \u001b[0minput_matrix\u001b[0m \u001b[0;34m=\u001b[0m \u001b[0minput_data\u001b[0m\u001b[0;34m.\u001b[0m\u001b[0mpermute\u001b[0m\u001b[0;34m(\u001b[0m\u001b[0;36m2\u001b[0m\u001b[0;34m,\u001b[0m \u001b[0;36m0\u001b[0m\u001b[0;34m,\u001b[0m \u001b[0;36m1\u001b[0m\u001b[0;34m)\u001b[0m\u001b[0;34m.\u001b[0m\u001b[0munsqueeze\u001b[0m\u001b[0;34m(\u001b[0m\u001b[0;36m0\u001b[0m\u001b[0;34m)\u001b[0m\u001b[0;34m\u001b[0m\u001b[0;34m\u001b[0m\u001b[0m\n",
            "\u001b[0;31mValueError\u001b[0m: axes don't match array"
          ]
        }
      ]
    },
    {
      "cell_type": "code",
      "source": [
        "# calculating convolution forward propagation using pytroch\n",
        "output = conv2d(input_matrix, custom_filter, padding=0)\n",
        "print(output)"
      ],
      "metadata": {
        "id": "o3ZcTQhAdrHx"
      },
      "execution_count": null,
      "outputs": []
    },
    {
      "cell_type": "markdown",
      "source": [
        "### Backward propagation"
      ],
      "metadata": {
        "id": "0PTwkde8R1ZX"
      }
    },
    {
      "cell_type": "markdown",
      "source": [
        "#### $\\frac{∂L}{\\partial Z_{k-1}}$"
      ],
      "metadata": {
        "id": "j2l3kDA9n2BV"
      }
    },
    {
      "cell_type": "code",
      "source": [
        "# calculating convolution backward propagation using my function\n",
        "print(conv2d_backward(arr1d, filt1d))"
      ],
      "metadata": {
        "id": "GzKm-j9npokX"
      },
      "execution_count": null,
      "outputs": []
    },
    {
      "cell_type": "code",
      "source": [
        "# initializing input array and loss as torch tensors\n",
        "loss = torch.tensor(arr1d, dtype=float,  requires_grad=True)\n",
        "\n",
        "loss = loss.permute(2, 0, 1).unsqueeze(0)\n",
        "\n",
        "input_matrix = torch.randn(1, 1, 3, 2, dtype=float,  requires_grad=True) # dL/dZ does not depend on input matrix according to lecture slides"
      ],
      "metadata": {
        "id": "30GnFl05qzCK"
      },
      "execution_count": null,
      "outputs": []
    },
    {
      "cell_type": "code",
      "source": [
        "# calculating convolution backward propagation using pytroch\n",
        "output = conv2d(input_matrix, custom_filter).backward(loss)\n",
        "print(input_matrix.grad.squeeze(0).numpy())"
      ],
      "metadata": {
        "id": "vnaz0ix1eCVL"
      },
      "execution_count": null,
      "outputs": []
    },
    {
      "cell_type": "markdown",
      "source": [
        "#### $\\frac{∂L}{\\partial W_{k}}$"
      ],
      "metadata": {
        "id": "zgYsLsmcnyjf"
      }
    },
    {
      "cell_type": "code",
      "source": [
        "# calculating convolution backward propagation to find dL/dW using my function\n",
        "print(conv2d_backward_weights(input_matrix.detach().squeeze(0).permute(1, 2, 0).numpy(), arr1d))"
      ],
      "metadata": {
        "id": "gxC7K2Bvfs3L"
      },
      "execution_count": null,
      "outputs": []
    },
    {
      "cell_type": "code",
      "source": [
        "# calculating convolution backward propagation to find dL/dW using pytorch\n",
        "print(custom_filter.grad.numpy())"
      ],
      "metadata": {
        "id": "v7N1T8w1f3Hw"
      },
      "execution_count": null,
      "outputs": []
    },
    {
      "cell_type": "markdown",
      "source": [
        "## 3 channels"
      ],
      "metadata": {
        "id": "VUU1xJkMSDbv"
      }
    },
    {
      "cell_type": "markdown",
      "source": [
        "### Forward propagation"
      ],
      "metadata": {
        "id": "nGRTEVDAS2ez"
      }
    },
    {
      "cell_type": "code",
      "source": [
        "# initializing input array and filter\n",
        "arr3d = np.array([\n",
        "    [[1, 2, 3], [4, 5, 6]],\n",
        "     [[7, 8, 9], [10, 11, 12]]\n",
        "    ])\n",
        "\n",
        "\n",
        "filt3d = np.array([[[1, 2 ,3]], [[4, 5, 6]]])"
      ],
      "metadata": {
        "id": "_ylUzMLhbLTP"
      },
      "execution_count": null,
      "outputs": []
    },
    {
      "cell_type": "code",
      "source": [
        "# calculating convolution forward propagation using my function\n",
        "conv2d_forward(arr3d, filt3d)"
      ],
      "metadata": {
        "colab": {
          "base_uri": "https://localhost:8080/"
        },
        "id": "0QgNI58beI2E",
        "outputId": "c8e9164e-aa46-4740-f1af-f174dd52199d"
      },
      "execution_count": null,
      "outputs": [
        {
          "output_type": "execute_result",
          "data": {
            "text/plain": [
              "array([[136., 199.]])"
            ]
          },
          "metadata": {},
          "execution_count": 9
        }
      ]
    },
    {
      "cell_type": "code",
      "source": [
        "# initializing input array and filter as torch tensors\n",
        "custom_filter = torch.tensor(filt3d.transpose(2,0,1)[np.newaxis, :, :,:], dtype=float, requires_grad=True)\n",
        "input_data = torch.tensor(arr3d, dtype=float, requires_grad=True)\n",
        "input_matrix = input_data.permute(2, 0, 1).unsqueeze(0)"
      ],
      "metadata": {
        "id": "H8lHgJ3gS33O"
      },
      "execution_count": null,
      "outputs": []
    },
    {
      "cell_type": "code",
      "source": [
        "# calculating convolution forward propagation using pytroch\n",
        "output = conv2d(input_matrix, custom_filter, padding=0)\n",
        "print(output.detach().numpy())"
      ],
      "metadata": {
        "colab": {
          "base_uri": "https://localhost:8080/"
        },
        "id": "ElZxfXvPeQDW",
        "outputId": "b0f6c2f2-5a47-4668-ddd4-95b3c4ffe364"
      },
      "execution_count": null,
      "outputs": [
        {
          "output_type": "stream",
          "name": "stdout",
          "text": [
            "[[[[136. 199.]]]]\n"
          ]
        }
      ]
    },
    {
      "cell_type": "markdown",
      "source": [
        "### Backward propagation"
      ],
      "metadata": {
        "id": "y7wl09fbS-BJ"
      }
    },
    {
      "cell_type": "markdown",
      "source": [
        "#### $\\frac{∂L}{\\partial Z_{k-1}}$"
      ],
      "metadata": {
        "id": "oE6d76XWnj36"
      }
    },
    {
      "cell_type": "code",
      "source": [
        "# calculating convolution backward propagation using my function\n",
        "print(conv2d_backward(arr1d, filt3d))"
      ],
      "metadata": {
        "colab": {
          "base_uri": "https://localhost:8080/"
        },
        "id": "sxRqEjYBS_mA",
        "outputId": "5a5a3e8d-cb8d-40e1-de98-46ad450ddf31"
      },
      "execution_count": null,
      "outputs": [
        {
          "output_type": "stream",
          "name": "stdout",
          "text": [
            "[[[ 1.  2.]\n",
            "  [ 7. 12.]\n",
            "  [12. 16.]]\n",
            "\n",
            " [[ 2.  4.]\n",
            "  [11. 18.]\n",
            "  [15. 20.]]\n",
            "\n",
            " [[ 3.  6.]\n",
            "  [15. 24.]\n",
            "  [18. 24.]]]\n"
          ]
        }
      ]
    },
    {
      "cell_type": "code",
      "source": [
        "# initializing input array and loss as torch tensors\n",
        "loss = torch.Tensor(arr1d)\n",
        "\n",
        "loss = loss.permute(2, 0, 1).unsqueeze(0)\n",
        "\n",
        "input_matrix = torch.randn(1, 3, 3, 2, dtype=float,  requires_grad=True)"
      ],
      "metadata": {
        "id": "B4ZtoZi_TD3s"
      },
      "execution_count": null,
      "outputs": []
    },
    {
      "cell_type": "code",
      "source": [
        "# calculating convolution backward propagation using pytroch\n",
        "output = conv2d(input_matrix, custom_filter).backward(loss)\n",
        "print(input_matrix.grad.numpy())"
      ],
      "metadata": {
        "colab": {
          "base_uri": "https://localhost:8080/"
        },
        "id": "2_ZnYF0UeZyv",
        "outputId": "c02ca4cb-1e00-4fd4-c4d5-e5db0e0a1ddc"
      },
      "execution_count": null,
      "outputs": [
        {
          "output_type": "stream",
          "name": "stdout",
          "text": [
            "[[[[ 1.  2.]\n",
            "   [ 7. 12.]\n",
            "   [12. 16.]]\n",
            "\n",
            "  [[ 2.  4.]\n",
            "   [11. 18.]\n",
            "   [15. 20.]]\n",
            "\n",
            "  [[ 3.  6.]\n",
            "   [15. 24.]\n",
            "   [18. 24.]]]]\n"
          ]
        }
      ]
    },
    {
      "cell_type": "markdown",
      "source": [
        "#### $\\frac{∂L}{\\partial W_{k}}$"
      ],
      "metadata": {
        "id": "1KZoUIH2nvGg"
      }
    },
    {
      "cell_type": "code",
      "source": [
        "# calculating convolution backward propagation to find dL/dW using my function\n",
        "print(conv2d_backward_weights(input_matrix.detach().squeeze(0).permute(1, 2, 0).numpy(), arr1d).shape)"
      ],
      "metadata": {
        "colab": {
          "base_uri": "https://localhost:8080/"
        },
        "id": "oI23oKtWnGGR",
        "outputId": "eb406116-0f7b-42a6-9011-75c00acb6e59"
      },
      "execution_count": null,
      "outputs": [
        {
          "output_type": "stream",
          "name": "stdout",
          "text": [
            "(3, 2, 1)\n"
          ]
        }
      ]
    },
    {
      "cell_type": "code",
      "source": [
        "# calculating convolution backward propagation to find dL/dW using pytorch\n",
        "print(custom_filter.grad.numpy())"
      ],
      "metadata": {
        "colab": {
          "base_uri": "https://localhost:8080/"
        },
        "id": "HGoildKfjHcR",
        "outputId": "3b016c24-9432-4760-df6c-a7f4a80a344b"
      },
      "execution_count": null,
      "outputs": [
        {
          "output_type": "stream",
          "name": "stdout",
          "text": [
            "[[[[-8.2702149 ]\n",
            "   [-2.31463389]]\n",
            "\n",
            "  [[ 2.89953331]\n",
            "   [12.99310609]]\n",
            "\n",
            "  [[ 7.42786757]\n",
            "   [ 1.22592243]]]]\n"
          ]
        }
      ]
    }
  ]
}